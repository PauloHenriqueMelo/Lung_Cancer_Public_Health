{
 "cells": [
  {
   "cell_type": "code",
   "execution_count": 24,
   "id": "6d05ad21",
   "metadata": {},
   "outputs": [],
   "source": [
    "import pandas as pd\n",
    "import numpy as np\n",
    "\n",
    "# Specify relative path to the file\n",
    "file_path = \"../IAPS/cancerpulmao.csv\"\n",
    "\n",
    "\n",
    "# Load data into a pandas DataFrame with the correct encoding specified\n",
    "daf = pd.read_csv(file_path)\n"
   ]
  },
  {
   "cell_type": "code",
   "execution_count": 13,
   "id": "5e835943",
   "metadata": {},
   "outputs": [
    {
     "name": "stdout",
     "output_type": "stream",
     "text": [
      "           count       mean        std  min  25%   50%    75%    max\n",
      "time_diag                                                           \n",
      "Antes      752.0  42.062500  66.454995  0.0  5.0  23.0  49.25  598.0\n",
      "Depois     280.0  34.614286  55.244791  0.0  2.0  20.0  47.25  524.0\n"
     ]
    }
   ],
   "source": [
    "# Generate descriptive statistics of 'tempo_diag_tto_min' grouped by 'time_diag'\n",
    "grouped_stats = df.groupby('time_diag')['tempo_diag_tto_min'].describe()\n",
    "print(grouped_stats)\n"
   ]
  },
  {
   "cell_type": "code",
   "execution_count": 14,
   "id": "60ed2505",
   "metadata": {},
   "outputs": [
    {
     "data": {
      "image/png": "[encoded data removed]",
      "text/plain": [
       "<Figure size 800x600 with 1 Axes>"
      ]
     },
     "metadata": {},
     "output_type": "display_data"
    }
   ],
   "source": [
    "import matplotlib.pyplot as plt\n",
    "import seaborn as sns\n",
    "\n",
    "plt.figure(figsize=(8,6))\n",
    "sns.boxplot(x='time_diag', y='tempo_diag_tto_min', data=df)\n",
    "plt.title('Boxplot of time_diag_tto_min by time_diag')\n",
    "plt.show()\n"
   ]
  },
  {
   "cell_type": "code",
   "execution_count": 15,
   "id": "b9719e83",
   "metadata": {},
   "outputs": [
    {
     "name": "stdout",
     "output_type": "stream",
     "text": [
      "T-statistic: 1.6724330237008307\n",
      "P-value: 0.09474266105083619\n"
     ]
    }
   ],
   "source": [
    "from scipy.stats import ttest_ind\n",
    "\n",
    "# Separate the 'tempo_diag_tto_min' data for 'Antes' and 'Depois' groups\n",
    "antes = df[df['time_diag'] == 'Antes']['tempo_diag_tto_min']\n",
    "depois = df[df['time_diag'] == 'Depois']['tempo_diag_tto_min']\n",
    "\n",
    "# Perform t-test\n",
    "t_stat, p_val = ttest_ind(antes, depois)\n",
    "\n",
    "print(f'T-statistic: {t_stat}')\n",
    "print(f'P-value: {p_val}')\n"
   ]
  },
  {
   "cell_type": "code",
   "execution_count": 16,
   "id": "398f14a4",
   "metadata": {},
   "outputs": [
    {
     "name": "stdout",
     "output_type": "stream",
     "text": [
      "                            OLS Regression Results                            \n",
      "==============================================================================\n",
      "Dep. Variable:     tempo_diag_tto_min   R-squared:                       0.099\n",
      "Model:                            OLS   Adj. R-squared:                  0.058\n",
      "Method:                 Least Squares   F-statistic:                     2.454\n",
      "Date:                Tue, 04 Jul 2023   Prob (F-statistic):           7.53e-07\n",
      "Time:                        05:51:09   Log-Likelihood:                -5696.9\n",
      "No. Observations:                1032   AIC:                         1.148e+04\n",
      "Df Residuals:                     987   BIC:                         1.171e+04\n",
      "Df Model:                          44                                         \n",
      "Covariance Type:            nonrobust                                         \n",
      "==========================================================================================================\n",
      "                                             coef    std err          t      P>|t|      [0.025      0.975]\n",
      "----------------------------------------------------------------------------------------------------------\n",
      "Intercept                                106.0613     33.851      3.133      0.002      39.633     172.490\n",
      "racacor[T.2]                              -7.5800     10.547     -0.719      0.473     -28.277      13.117\n",
      "racacor[T.3]                              -8.9087      6.061     -1.470      0.142     -20.802       2.985\n",
      "racacor[T.4]                              36.7154     20.197      1.818      0.069      -2.918      76.349\n",
      "racacor[T.5]                             -15.1059     31.379     -0.481      0.630     -76.684      46.472\n",
      "racacor[T.99]                              7.8463      6.021      1.303      0.193      -3.968      19.661\n",
      "sexo[T.M]                                 -2.2894      4.160     -0.550      0.582     -10.453       5.874\n",
      "cidade_estabel[T.BARRETOS]                -9.9915     16.813     -0.594      0.552     -42.985      23.002\n",
      "cidade_estabel[T.BRASILIA]               -39.4422     63.825     -0.618      0.537    -164.690      85.806\n",
      "cidade_estabel[T.Barbacena]               28.7846     22.836      1.261      0.208     -16.027      73.596\n",
      "cidade_estabel[T.Belo Horizonte]          24.0564     14.090      1.707      0.088      -3.594      51.707\n",
      "cidade_estabel[T.Betim]                    3.6647     30.766      0.119      0.905     -56.710      64.039\n",
      "cidade_estabel[T.CAMPINAS]                28.1956     46.335      0.609      0.543     -62.732     119.123\n",
      "cidade_estabel[T.Cataguases]             -18.7419     33.892     -0.553      0.580     -85.251      47.767\n",
      "cidade_estabel[T.Divinópolis]             24.0659     15.660      1.537      0.125      -6.664      54.796\n",
      "cidade_estabel[T.Governador Valadares]    12.0247     17.866      0.673      0.501     -23.034      47.084\n",
      "cidade_estabel[T.Ipatinga]                30.3173     16.973      1.786      0.074      -2.989      63.624\n",
      "cidade_estabel[T.Itajubá]                -34.1151     65.850     -0.518      0.605    -163.338      95.107\n",
      "cidade_estabel[T.Juiz de Fora]            -7.4123     15.339     -0.483      0.629     -37.513      22.689\n",
      "cidade_estabel[T.Montes Claros]            5.7261     15.986      0.358      0.720     -25.645      37.097\n",
      "cidade_estabel[T.Muriaé]                  10.5148     14.686      0.716      0.474     -18.305      39.335\n",
      "cidade_estabel[T.PELOTAS]                 78.3110     63.976      1.224      0.221     -47.234     203.856\n",
      "cidade_estabel[T.Passos]                 -11.7452     16.510     -0.711      0.477     -44.143      20.653\n",
      "cidade_estabel[T.Patos de Minas]          20.1021     23.691      0.849      0.396     -26.389      66.593\n",
      "cidade_estabel[T.Ponte Nova]              17.8560     24.579      0.726      0.468     -30.377      66.089\n",
      "cidade_estabel[T.Pouso Alegre]           103.8571     28.436      3.652      0.000      48.055     159.659\n",
      "cidade_estabel[T.Poços de Caldas]         11.2870     17.085      0.661      0.509     -22.240      44.814\n",
      "cidade_estabel[T.RIBEIRAO PRETO]         -23.8190     46.278     -0.515      0.607    -114.634      66.996\n",
      "cidade_estabel[T.Sete Lagoas]              6.4269     23.743      0.271      0.787     -40.166      53.020\n",
      "cidade_estabel[T.São João Del Rei]        -5.9906     22.396     -0.267      0.789     -49.939      37.958\n",
      "cidade_estabel[T.Uberaba]                  9.6268     15.501      0.621      0.535     -20.793      40.046\n",
      "cidade_estabel[T.Uberlândia]              18.7262     15.680      1.194      0.233     -12.045      49.497\n",
      "cidade_estabel[T.Varginha]                34.7830     15.567      2.234      0.026       4.234      65.332\n",
      "tipo_proc_min[T.2]                       -70.3111     40.443     -1.739      0.082    -149.675       9.053\n",
      "tipo_proc_min[T.3]                       -55.4192     41.399     -1.339      0.181    -136.659      25.821\n",
      "tipo_proc_min[T.4]                       -52.9685     42.486     -1.247      0.213    -136.343      30.406\n",
      "tipo_proc_min[T.5]                       -74.4248     39.883     -1.866      0.062    -152.690       3.840\n",
      "tipo_proc_min[T.6]                        -4.6951     63.038     -0.074      0.941    -128.400     119.009\n",
      "tipo_proc_min[T.9]                       -78.3024     54.091     -1.448      0.148    -184.450      27.845\n",
      "tipo_tto_min[T.2]                        -24.2707     28.749     -0.844      0.399     -80.686      32.145\n",
      "tipo_tto_min[T.3]                        -23.5585     29.789     -0.791      0.429     -82.016      34.899\n",
      "tipo_tto_min[T.6]                        -77.8168     53.006     -1.468      0.142    -181.835      26.201\n",
      "estadio_rec[T.Doença Precoce]              8.2736      7.520      1.100      0.272      -6.484      23.031\n",
      "macro_tto[T.Fora]                         13.4410      7.621      1.764      0.078      -1.515      28.396\n",
      "idade                                      0.1601      0.185      0.865      0.387      -0.203       0.523\n",
      "==============================================================================\n",
      "Omnibus:                      863.593   Durbin-Watson:                   1.948\n",
      "Prob(Omnibus):                  0.000   Jarque-Bera (JB):            21609.047\n",
      "Skew:                           3.779   Prob(JB):                         0.00\n",
      "Kurtosis:                      24.105   Cond. No.                     3.74e+03\n",
      "==============================================================================\n",
      "\n",
      "Notes:\n",
      "[1] Standard Errors assume that the covariance matrix of the errors is correctly specified.\n",
      "[2] The condition number is large, 3.74e+03. This might indicate that there are\n",
      "strong multicollinearity or other numerical problems.\n"
     ]
    }
   ],
   "source": [
    "import statsmodels.api as sm\n",
    "import statsmodels.formula.api as smf\n",
    "\n",
    "# Convert categorical variables to 'category' data type\n",
    "categorical_vars = ['racacor', 'sexo', 'cidade_estabel', 'tipo_proc_min', 'tipo_tto_min', 'estadio_rec', 'macro_tto']\n",
    "for var in categorical_vars:\n",
    "    df[var] = df[var].astype('category')\n",
    "\n",
    "# Create a formula for the regression model\n",
    "formula = 'tempo_diag_tto_min ~ racacor + sexo + idade + cidade_estabel + tipo_proc_min + tipo_tto_min + estadio_rec + macro_tto'\n",
    "\n",
    "# Create a fitted model\n",
    "model = smf.ols(formula=formula, data=df).fit()\n",
    "\n",
    "# Print the summary of the model\n",
    "print(model.summary())\n"
   ]
  },
  {
   "cell_type": "code",
   "execution_count": 25,
   "id": "86130e4d",
   "metadata": {},
   "outputs": [],
   "source": [
    "df= daf[['racacor', 'sexo', 'cidade_estabel', 'tipo_proc_min', 'tipo_tto_min', 'estadio_rec', 'macro_tto', 'tempo_diag_tto_min']]"
   ]
  },
  {
   "cell_type": "code",
   "execution_count": 28,
   "id": "49d114f3",
   "metadata": {},
   "outputs": [
    {
     "name": "stdout",
     "output_type": "stream",
     "text": [
      "R^2: -0.13432395026002353\n",
      "                                      Coefficient\n",
      "racacor_2                           -1.688293e+00\n",
      "racacor_3                           -5.574863e+00\n",
      "racacor_4                            7.291428e+01\n",
      "racacor_5                           -1.734314e+01\n",
      "racacor_99                           5.599114e+00\n",
      "sexo_M                              -6.984334e-01\n",
      "cidade_estabel_BARRETOS             -1.873863e+01\n",
      "cidade_estabel_BRASILIA              2.486900e-13\n",
      "cidade_estabel_Barbacena            -3.865843e+00\n",
      "cidade_estabel_Belo Horizonte        2.202469e+01\n",
      "cidade_estabel_Betim                 3.083194e+00\n",
      "cidade_estabel_CAMPINAS              8.360206e+01\n",
      "cidade_estabel_Cataguases           -1.685901e+01\n",
      "cidade_estabel_Divinópolis           1.584103e+01\n",
      "cidade_estabel_Governador Valadares  1.384439e+01\n",
      "cidade_estabel_Ipatinga              4.005301e+01\n",
      "cidade_estabel_Itajubá              -5.151435e-14\n",
      "cidade_estabel_Juiz de Fora         -7.831668e+00\n",
      "cidade_estabel_Montes Claros         3.858316e+00\n",
      "cidade_estabel_Muriaé                5.786423e+00\n",
      "cidade_estabel_PELOTAS               6.637549e+01\n",
      "cidade_estabel_Passos               -1.164088e+01\n",
      "cidade_estabel_Patos de Minas        1.520549e+01\n",
      "cidade_estabel_Ponte Nova            1.238936e+01\n",
      "cidade_estabel_Pouso Alegre          1.222301e+02\n",
      "cidade_estabel_Poços de Caldas       1.625231e+01\n",
      "cidade_estabel_RIBEIRAO PRETO       -3.066201e+01\n",
      "cidade_estabel_Sete Lagoas           3.808871e+00\n",
      "cidade_estabel_São João Del Rei     -1.399553e+01\n",
      "cidade_estabel_Uberaba               3.978524e+00\n",
      "cidade_estabel_Uberlândia            1.917905e+01\n",
      "cidade_estabel_Varginha              3.957081e+01\n",
      "tipo_proc_min_2                     -6.651209e+01\n",
      "tipo_proc_min_3                     -5.327110e+01\n",
      "tipo_proc_min_4                     -5.899166e+01\n",
      "tipo_proc_min_5                     -7.729798e+01\n",
      "tipo_proc_min_6                     -3.549798e+01\n",
      "tipo_proc_min_9                     -7.616523e+01\n",
      "tipo_tto_min_2                      -3.142358e+01\n",
      "tipo_tto_min_3                      -2.113644e+01\n",
      "tipo_tto_min_6                      -7.761209e+01\n",
      "estadio_rec_Doença Precoce           3.359168e+00\n",
      "macro_tto_Fora                       1.380471e+01\n"
     ]
    }
   ],
   "source": [
    "from sklearn.model_selection import train_test_split\n",
    "from sklearn.linear_model import LinearRegression\n",
    "from sklearn.metrics import mean_squared_error, r2_score\n",
    "\n",
    "# Specify the categorical variables and numerical variables\n",
    "categorical_vars = ['racacor', 'sexo', 'cidade_estabel', 'tipo_proc_min', 'tipo_tto_min', 'estadio_rec', 'macro_tto']\n",
    "numerical_vars = ['idade']\n",
    "\n",
    "# Convert categorical variables into dummy variables\n",
    "df_encoded = pd.get_dummies(df, columns=categorical_vars, drop_first=True)\n",
    "\n",
    "# Specify the predictor variables and the target variable\n",
    "X = df_encoded.drop('tempo_diag_tto_min', axis=1)\n",
    "y = df_encoded['tempo_diag_tto_min']\n",
    "\n",
    "# Split the data into training set and test set\n",
    "X_train, X_test, y_train, y_test = train_test_split(X, y, test_size=0.2, random_state=42)\n",
    "\n",
    "# Create a Linear Regression model and fit it to the training data\n",
    "model = LinearRegression()\n",
    "model.fit(X_train, y_train)\n",
    "\n",
    "# Use the model to make predictions on the test set\n",
    "y_pred = model.predict(X_test)\n",
    "\n",
    "# Calculate the R^2 score\n",
    "r2 = r2_score(y_test, y_pred)\n",
    "print(f'R^2: {r2}')\n",
    "\n",
    "# Optionally, print the model coefficients\n",
    "coeff_df = pd.DataFrame(model.coef_, X.columns, columns=['Coefficient'])  \n",
    "print(coeff_df)\n"
   ]
  },
  {
   "cell_type": "code",
   "execution_count": 29,
   "id": "181473ef",
   "metadata": {},
   "outputs": [
    {
     "name": "stdout",
     "output_type": "stream",
     "text": [
      "R^2: -0.36195010269474115\n"
     ]
    }
   ],
   "source": [
    "from sklearn.ensemble import RandomForestRegressor\n",
    "\n",
    "# Create a Random Forest Regressor model and fit it to the training data\n",
    "model_rf = RandomForestRegressor(n_estimators=100, random_state=42)\n",
    "model_rf.fit(X_train, y_train)\n",
    "\n",
    "# Use the model to make predictions on the test set\n",
    "y_pred_rf = model_rf.predict(X_test)\n",
    "\n",
    "# Calculate the R^2 score for the Random Forest model\n",
    "r2_rf = r2_score(y_test, y_pred_rf)\n",
    "print(f'R^2: {r2_rf}')\n"
   ]
  },
  {
   "cell_type": "code",
   "execution_count": null,
   "id": "edfb8ae2",
   "metadata": {},
   "outputs": [],
   "source": []
  }
 ],
 "metadata": {
  "kernelspec": {
   "display_name": "Python 3 (ipykernel)",
   "language": "python",
   "name": "python3"
  },
  "language_info": {
   "codemirror_mode": {
    "name": "ipython",
    "version": 3
   },
   "file_extension": ".py",
   "mimetype": "text/x-python",
   "name": "python",
   "nbconvert_exporter": "python",
   "pygments_lexer": "ipython3",
   "version": "3.9.12"
  }
 },
 "nbformat": 4,
 "nbformat_minor": 5
}
